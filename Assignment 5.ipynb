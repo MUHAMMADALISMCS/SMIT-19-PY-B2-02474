{
 "cells": [
  {
   "cell_type": "code",
   "execution_count": 2,
   "metadata": {},
   "outputs": [
    {
     "name": "stdout",
     "output_type": "stream",
     "text": [
      "Enter a number: 21\n",
      "The factorial of 21 is 51090942171709440000\n"
     ]
    }
   ],
   "source": [
    "num = int(input(\"Enter a number: \"))\n",
    "factorial = 1\n",
    "\n",
    "if num < 0:\n",
    "   print(\"Sorry, factorial does not exist for negative numbers\")\n",
    "elif num == 0:\n",
    "   print(\"The factorial of 0 is 1\")\n",
    "else:\n",
    "   for i in range(1,num + 1):\n",
    "       factorial = factorial*i\n",
    "   print(\"The factorial of\",num,\"is\",factorial)"
   ]
  },
  {
   "cell_type": "code",
   "execution_count": 3,
   "metadata": {},
   "outputs": [
    {
     "name": "stdout",
     "output_type": "stream",
     "text": [
      "Original String :  The quick Brown Fox\n",
      "No. of Upper case characters :  3\n",
      "No. of Lower case Characters :  13\n"
     ]
    }
   ],
   "source": [
    "def string_test(s):\n",
    "    d={\"UPPER_CASE\":0, \"LOWER_CASE\":0}\n",
    "    for c in s:\n",
    "        if c.isupper():\n",
    "           d[\"UPPER_CASE\"]+=1\n",
    "        elif c.islower():\n",
    "           d[\"LOWER_CASE\"]+=1\n",
    "        else:\n",
    "           pass\n",
    "    print (\"Original String : \", s)\n",
    "    print (\"No. of Upper case characters : \", d[\"UPPER_CASE\"])\n",
    "    print (\"No. of Lower case Characters : \", d[\"LOWER_CASE\"])\n",
    "\n",
    "string_test('The quick Brown Fox')"
   ]
  },
  {
   "cell_type": "code",
   "execution_count": 9,
   "metadata": {},
   "outputs": [
    {
     "name": "stdout",
     "output_type": "stream",
     "text": [
      "Even numbers in the list: [10, 4, 66]\n"
     ]
    }
   ],
   "source": [
    "list1 = [10, 21, 4, 45, 66, 93] \n",
    "  \n",
    "\n",
    "even_nos = [ NO for NO in list1 \n",
    "            if NO % 2 == 0] \n",
    "  \n",
    "print(\"Even numbers in the list: {}\".format(even_nos)) "
   ]
  },
  {
   "cell_type": "code",
   "execution_count": 2,
   "metadata": {},
   "outputs": [
    {
     "name": "stdout",
     "output_type": "stream",
     "text": [
      "Check whether word is palindrome or not: maam\n",
      "It is a palindrome.\n",
      "True\n"
     ]
    }
   ],
   "source": [
    "def isPalindrome(string):\n",
    "    left_pos = 0\n",
    "    right_pos = len(string) - 1\n",
    "    \n",
    "    while right_pos >= left_pos:\n",
    "        if not string[left_pos] == string[right_pos]:\n",
    "            return False\n",
    "        left_pos += 1\n",
    "        right_pos -= 1\n",
    "    print(\"It is a palindrome.\")\n",
    "    return True\n",
    "    \n",
    "a=input(\"Check whether word is palindrome or not: \")\n",
    "print(isPalindrome(a)) "
   ]
  },
  {
   "cell_type": "code",
   "execution_count": 4,
   "metadata": {},
   "outputs": [
    {
     "name": "stdout",
     "output_type": "stream",
     "text": [
      "Enter a number89\n",
      "It is a prime number.\n",
      "True\n"
     ]
    }
   ],
   "source": [
    "def test_prime(n):\n",
    "    if (n==1):\n",
    "        return False\n",
    "    elif (n==2):\n",
    "        print(\"It is a prime number.\")\n",
    "        return True;\n",
    "    else:\n",
    "        for x in range(2,n):\n",
    "            if(n % x==0):\n",
    "                return False\n",
    "        print(\"It is a prime number.\")\n",
    "        return True\n",
    "n = int(input(\"Enter a number\"))\n",
    "print(test_prime(n))"
   ]
  },
  {
   "cell_type": "code",
   "execution_count": null,
   "metadata": {},
   "outputs": [
    {
     "name": "stdout",
     "output_type": "stream",
     "text": [
      "item: Rice\n",
      "['Rice']\n",
      "\n",
      " 200\n",
      "\n",
      " Cost is : 200\n",
      "item: Sugar\n",
      "['Rice', 'Sugar']\n",
      "\n",
      " 100\n",
      "\n",
      " Cost is : 100\n",
      "item: Tea\n",
      "['Rice', 'Sugar', 'Tea']\n",
      "\n",
      " 300\n",
      "\n",
      " Cost is : 300\n"
     ]
    }
   ],
   "source": [
    "list=[]\n",
    "\n",
    "while True:\n",
    "    \n",
    "    def shopping(item):\n",
    "        \n",
    "        if item == \"Rice\":\n",
    "            list.append(item)\n",
    "            Price=200\n",
    "            print(list)\n",
    "            print(\"\\n {}\".format(Price))\n",
    "        if item == \"Sugar\":\n",
    "            list.append(item)\n",
    "            Price=100\n",
    "            print(list)\n",
    "            print(\"\\n {}\".format(Price))\n",
    "        if item == \"Tea\":\n",
    "            list.append(item)\n",
    "            Price=300\n",
    "            print(list)\n",
    "            print(\"\\n {}\".format(Price))\n",
    "        \n",
    "        return Price\n",
    "    \n",
    "    item=str(input(\"item: \"))\n",
    "#    shopping(item)\n",
    "    \n",
    "    Cost = shopping(item)\n",
    "\n",
    "    print(\"\\n Cost is : {}\".format(Cost))"
   ]
  }
 ],
 "metadata": {
  "kernelspec": {
   "display_name": "Python 3",
   "language": "python",
   "name": "python3"
  },
  "language_info": {
   "codemirror_mode": {
    "name": "ipython",
    "version": 3
   },
   "file_extension": ".py",
   "mimetype": "text/x-python",
   "name": "python",
   "nbconvert_exporter": "python",
   "pygments_lexer": "ipython3",
   "version": "3.7.4"
  }
 },
 "nbformat": 4,
 "nbformat_minor": 2
}
