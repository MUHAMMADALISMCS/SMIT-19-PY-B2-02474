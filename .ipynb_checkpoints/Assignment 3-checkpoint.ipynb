{
 "cells": [
  {
   "cell_type": "code",
   "execution_count": 7,
   "metadata": {},
   "outputs": [
    {
     "name": "stdout",
     "output_type": "stream",
     "text": [
      "Select operation.\n",
      "+.Add\n",
      "-.Subtract\n",
      "*.Multiply\n",
      "/.Divide\n",
      "^.Power\n",
      "Enter choice(+,-,*,/,^): ^\n",
      "Enter first number: 12\n",
      "Enter second number: 3\n",
      "12.0 ^ 3.0 = 1728.0\n"
     ]
    }
   ],
   "source": [
    "def add(x, y): \n",
    "    return x + y\n",
    "\n",
    "def subtract(x, y): \n",
    "    return x - y\n",
    "\n",
    "def multiply(x, y): \n",
    "    return x * y\n",
    "\n",
    "def divide(x, y): \n",
    "    return x / y\n",
    "\n",
    "print(\"Select operation.\") \n",
    "print(\"+.Add\") \n",
    "print(\"-.Subtract\") \n",
    "print(\"*.Multiply\")\n",
    "print(\"/.Divide\")\n",
    "print(\"^.Power\")\n",
    "\n",
    "choice = input(\"Enter choice(+,-,*,/,^): \")\n",
    "\n",
    "num1 = float(input(\"Enter first number: \")) \n",
    "num2 = float(input(\"Enter second number: \"))\n",
    "\n",
    "if choice == '+': \n",
    "    print(num1,\"+\",num2,\"=\", add(num1,num2))\n",
    "\n",
    "elif choice == '-': \n",
    "    print(num1,\"-\",num2,\"=\", subtract(num1,num2))\n",
    "\n",
    "elif choice == '': \n",
    "    print(num1,\"\",num2,\"=\", multiply(num1,num2))\n",
    "\n",
    "elif choice == '/': \n",
    "    print(num1,\"/\",num2,\"=\", divide(num1,num2))\n",
    "\n",
    "elif choice == '^': \n",
    "    print(num1,\"^\",num2,\"=\", (num1**num2)) \n",
    "    \n",
    "else: \n",
    "    print(\"Invalid input\")"
   ]
  },
  {
   "cell_type": "code",
   "execution_count": 8,
   "metadata": {},
   "outputs": [
    {
     "name": "stdout",
     "output_type": "stream",
     "text": [
      "Checking if element exists in list ( using for loop ) : \n",
      "3\n",
      "Element Exists\n",
      "Checking if 4 exists in list ( using in ) : \n",
      "Element Exists\n"
     ]
    }
   ],
   "source": [
    "test_list = [1,6,3,5,3,4]\n",
    "\n",
    "print(\"Checking if element exists in list ( using for loop ) : \")\n",
    "a=int(input())   \n",
    "for i in test_list:  \n",
    "    if(i == a) : \n",
    "        print (\"Element Exists\")    \n",
    "        break\n",
    "\n",
    "\n",
    "print(\"Checking if 4 exists in list ( using in ) : \")\n",
    "\n",
    "if (4 in test_list): print (\"Element Exists\")"
   ]
  },
  {
   "cell_type": "code",
   "execution_count": 9,
   "metadata": {},
   "outputs": [
    {
     "name": "stdout",
     "output_type": "stream",
     "text": [
      "{0: 10, 1: 20}\n",
      "{0: 10, 1: 20, 2: 30}\n"
     ]
    }
   ],
   "source": [
    "d = {0:10, 1:20} \n",
    "print(d) \n",
    "d.update({2:30}) \n",
    "print(d)"
   ]
  },
  {
   "cell_type": "code",
   "execution_count": 10,
   "metadata": {},
   "outputs": [
    {
     "name": "stdout",
     "output_type": "stream",
     "text": [
      "400\n"
     ]
    }
   ],
   "source": [
    "my_dict = {'data1':100,'data2':50,'data3':250}\n",
    "print(sum(my_dict.values()))"
   ]
  },
  {
   "cell_type": "code",
   "execution_count": 11,
   "metadata": {},
   "outputs": [
    {
     "name": "stdout",
     "output_type": "stream",
     "text": [
      "[20, 30, 70, -20, 60]\n"
     ]
    }
   ],
   "source": [
    "# Python program to print  \n",
    "# duplicates from a list  \n",
    "# of integers \n",
    "def Repeat(x): \n",
    "    _size = len(x) \n",
    "    repeated = [] \n",
    "    for i in range(_size): \n",
    "        k = i + 1\n",
    "        for j in range(k, _size): \n",
    "            if x[i] == x[j] and x[i] not in repeated: \n",
    "                repeated.append(x[i]) \n",
    "    return repeated \n",
    "  \n",
    "# Driver Code \n",
    "list1 = [10, 20, 30, 70, 20, 70, 30, 40,  \n",
    "         50, -20, 60, 60, -20, -20] \n",
    "print (Repeat(list1)) "
   ]
  },
  {
   "cell_type": "code",
   "execution_count": 13,
   "metadata": {},
   "outputs": [
    {
     "name": "stdout",
     "output_type": "stream",
     "text": [
      "key =a\n",
      "Present,  value = 100\n",
      "key =s\n",
      "Not present\n",
      "key =c\n",
      "Present,  value = 300\n"
     ]
    }
   ],
   "source": [
    "# Python3 Program to check whether a  \n",
    "# given key already exists in a dictionary. \n",
    "  \n",
    "# Function to print sum \n",
    "def checkKey(dict, key): \n",
    "      \n",
    "    if key in dict.keys(): \n",
    "        print(\"Present, \", end =\" \") \n",
    "        print(\"value =\", dict[key]) \n",
    "    else: \n",
    "        print(\"Not present\") \n",
    "  \n",
    "# Driver Code \n",
    "dict = {'a': 100, 'b':200, 'c':300} \n",
    "  \n",
    "key = input(\"key =\")\n",
    "checkKey(dict, key) \n",
    "  \n",
    "key = input(\"key =\")\n",
    "checkKey(dict, key) \n",
    "\n",
    "key = input(\"key =\")\n",
    "checkKey(dict, key) "
   ]
  },
  {
   "cell_type": "code",
   "execution_count": null,
   "metadata": {},
   "outputs": [],
   "source": []
  }
 ],
 "metadata": {
  "kernelspec": {
   "display_name": "Python 3",
   "language": "python",
   "name": "python3"
  },
  "language_info": {
   "codemirror_mode": {
    "name": "ipython",
    "version": 3
   },
   "file_extension": ".py",
   "mimetype": "text/x-python",
   "name": "python",
   "nbconvert_exporter": "python",
   "pygments_lexer": "ipython3",
   "version": "3.7.4"
  }
 },
 "nbformat": 4,
 "nbformat_minor": 2
}
