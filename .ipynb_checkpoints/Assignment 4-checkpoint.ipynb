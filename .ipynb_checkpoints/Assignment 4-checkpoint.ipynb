{
 "cells": [
  {
   "cell_type": "code",
   "execution_count": 21,
   "metadata": {},
   "outputs": [
    {
     "name": "stdout",
     "output_type": "stream",
     "text": [
      "Anwar\n",
      "Aziz\n",
      "15\n",
      "Karachi\n",
      "{'First_Name': 'Anwar', 'Last_Name': 'Aziz', 'Age': 15, 'City': 'Karachi', 'Qualification': 'Matric'}\n",
      "{'First_Name': 'Anwar', 'Last_Name': 'Aziz', 'Age': 15, 'City': 'Karachi', 'Qualification': 'Intermediate'}\n",
      "{'First_Name': 'Anwar', 'Last_Name': 'Aziz', 'Age': 15, 'City': 'Karachi'}\n"
     ]
    }
   ],
   "source": [
    "person = {\n",
    "    'First_Name': 'Anwar',\n",
    "    'Last_Name': 'Aziz',\n",
    "    'Age': 15,\n",
    "    'City': 'Karachi'\n",
    "}\n",
    "\n",
    "print(person['First_Name'])\n",
    "print(person['Last_Name'])\n",
    "print(person['Age'])\n",
    "print(person['City'])\n",
    "\n",
    "person.update({'Qualification' : 'Matric'})\n",
    "print(person)\n",
    "\n",
    "person.update({'Qualification' : 'Intermediate'})\n",
    "print(person)\n",
    "\n",
    "person.pop('Qualification')\n",
    "print(person)"
   ]
  },
  {
   "cell_type": "code",
   "execution_count": 46,
   "metadata": {},
   "outputs": [
    {
     "name": "stdout",
     "output_type": "stream",
     "text": [
      "\n",
      "Santiago is in Chile.\n",
      "  It has a population of about 6158080.\n",
      "  The Nearby Mountain Is Andes.\n",
      "\n",
      "Talkeetna is in Alaska.\n",
      "  It has a population of about 876.\n",
      "  The Nearby Mountain Is Alaska Range.\n",
      "\n",
      "Kathmandu is in Nepal.\n",
      "  It has a population of about 1003285.\n",
      "  The Nearby Mountain Is Himilaya.\n"
     ]
    }
   ],
   "source": [
    "cities = {\n",
    "        'santiago': {\n",
    "        'country': 'chile',\n",
    "        'population': 6158080,\n",
    "        'fact': 'Nearby mountain is andes',\n",
    "        },\n",
    "    'talkeetna': {\n",
    "        'country': 'alaska',\n",
    "        'population': 876,\n",
    "        'fact': 'Nearby mountain is alaska range',\n",
    "        },\n",
    "    'kathmandu': {\n",
    "        'country': 'nepal',\n",
    "        'population': 1003285,\n",
    "        'fact': 'Nearby mountain is himilaya',\n",
    "        }\n",
    "    }\n",
    "\n",
    "for city, city_info in cities.items():\n",
    "    country = city_info['country'].title()\n",
    "    population = city_info['population']\n",
    "    fact = city_info['fact'].title()\n",
    "\n",
    "    print(\"\\n\" + city.title() + \" is in \" + country + \".\")\n",
    "    print(\"  It has a population of about \" + str(population) + \".\")\n",
    "    print(\"  The \" + fact + \".\")"
   ]
  },
  {
   "cell_type": "code",
   "execution_count": 24,
   "metadata": {},
   "outputs": [
    {
     "name": "stdout",
     "output_type": "stream",
     "text": [
      "\n",
      "Enter '0' when you are finished.\n",
      "Please enter your age: 89\n",
      "Your ticket is $15\n",
      "\n",
      "Enter '0' when you are finished.\n",
      "Please enter your age: 7\n",
      "Your ticket is $10\n",
      "\n",
      "Enter '0' when you are finished.\n",
      "Please enter your age: 2\n",
      "Your ticket is free\n",
      "\n",
      "Enter '0' when you are finished.\n",
      "Please enter your age: 0\n",
      "The End\n"
     ]
    }
   ],
   "source": [
    "prompt = \"\\nEnter '0' when you are finished.\"\n",
    "prompt += \"\\nPlease enter your age: \"\n",
    "\n",
    "\n",
    "while True:\n",
    "    age = input(prompt)\n",
    "    age = int(age)\n",
    "    \n",
    "\n",
    "\n",
    "    if age == '0':\n",
    "        break\n",
    "    elif 0 < age <= 3:\n",
    "        print(\"Your ticket is free\")\n",
    "    elif 4 <= age <= 10:\n",
    "        print(\"Your ticket is $10\")\n",
    "    elif 11 <= age <= 999:\n",
    "        print(\"Your ticket is $15\")\n",
    "    else:\n",
    "        print(\"The End\")\n",
    "        break"
   ]
  },
  {
   "cell_type": "code",
   "execution_count": 26,
   "metadata": {},
   "outputs": [
    {
     "name": "stdout",
     "output_type": "stream",
     "text": [
      "Write your favourite book name: Alice in Wonderland\n",
      "One of my favorite book is Alice in Wonderland.\n"
     ]
    }
   ],
   "source": [
    "def favorite_book(title):\n",
    "    \"\"\"Display a message about someone's favorite book.\"\"\"\n",
    "    print(\"One of my favorite book is \" + title + \".\")\n",
    "\n",
    "A = input(\"Write your favourite book name: \")\n",
    "favorite_book(A)"
   ]
  },
  {
   "cell_type": "code",
   "execution_count": 45,
   "metadata": {},
   "outputs": [
    {
     "name": "stdout",
     "output_type": "stream",
     "text": [
      "Guess the number game\n",
      "Hello! What is your name?\n",
      "Ali\n",
      "Well, Ali, I am thinking of a number between 1 and 30.\n",
      "Take a guess.\n",
      "1\n",
      "Your guess is too low.\n",
      "Take a guess.\n",
      "20\n",
      "Your guess is too high.\n",
      "Take a guess.\n",
      "7\n",
      "Your guess is too low.\n",
      "Nope. The number I was thinking of was 17\n"
     ]
    }
   ],
   "source": [
    "  # This is a guess the number game.\n",
    "print('Guess the number game')\n",
    "  import random\n",
    "  guessesTaken = 0\n",
    "  print('Hello! What is your name?')\n",
    "  myName = input()\n",
    "  number = random.randint(1, 30)\n",
    "  print('Well, ' + myName + ', I am thinking of a number between 1 and 30.')\n",
    "while guessesTaken < 3:\n",
    "    print('Take a guess.') # There are four spaces in front of print.\n",
    "    guess = input()\n",
    "    guess = int(guess)\n",
    "    guessesTaken = guessesTaken + 1\n",
    "    if guess < number:\n",
    "         print('Your guess is too low.') # There are eight spaces in front of print.\n",
    "    if guess > number:\n",
    "        print('Your guess is too high.')\n",
    "    if guess == number:\n",
    "         break\n",
    "if guess == number:\n",
    "        guessesTaken = str(guessesTaken)\n",
    "        print('Good job, ' + myName + '! You guessed my number in ' + guessesTaken + ' guesses!')\n",
    "if guess != number:\n",
    "        number = str(number)\n",
    "        print('Nope. The number I was thinking of was ' + number)"
   ]
  },
  {
   "cell_type": "code",
   "execution_count": null,
   "metadata": {},
   "outputs": [],
   "source": []
  }
 ],
 "metadata": {
  "kernelspec": {
   "display_name": "Python 3",
   "language": "python",
   "name": "python3"
  },
  "language_info": {
   "codemirror_mode": {
    "name": "ipython",
    "version": 3
   },
   "file_extension": ".py",
   "mimetype": "text/x-python",
   "name": "python",
   "nbconvert_exporter": "python",
   "pygments_lexer": "ipython3",
   "version": "3.7.4"
  }
 },
 "nbformat": 4,
 "nbformat_minor": 2
}
