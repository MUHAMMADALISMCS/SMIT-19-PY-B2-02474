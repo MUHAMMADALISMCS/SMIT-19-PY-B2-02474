{
 "cells": [
  {
   "cell_type": "code",
   "execution_count": 6,
   "metadata": {},
   "outputs": [
    {
     "data": {
      "text/plain": [
       "'\\nDefine Object Oriented Programming Language?\\nObject-oriented programming (OOP) is a programming paradigm based on the concept of \"objects\", \\nwhich can contain data, in the form of fields (often known as attributes or properties), and \\ncode, in the form of procedures (often known as methods). A feature of objects is an object\\'s\\nprocedures that can access and often modify the data fields of the object with which they are\\nassociated (objects have a notion of \"this\" or \"self). In OOP, computer programs are designed \\nby making them out of objects that interact with one another. OOP languages are diverse, but \\nthe most popular ones are class-based, meaning that objects are instances of classes, which \\nalso determine their types.\\n'"
      ]
     },
     "execution_count": 6,
     "metadata": {},
     "output_type": "execute_result"
    }
   ],
   "source": [
    "'''\n",
    "Define Object Oriented Programming Language?\n",
    "Object-oriented programming (OOP) is a programming paradigm based on the concept of \"objects\", \n",
    "which can contain data, in the form of fields (often known as attributes or properties), and \n",
    "code, in the form of procedures (often known as methods). A feature of objects is an object's\n",
    "procedures that can access and often modify the data fields of the object with which they are\n",
    "associated (objects have a notion of \"this\" or \"self). In OOP, computer programs are designed \n",
    "by making them out of objects that interact with one another. OOP languages are diverse, but \n",
    "the most popular ones are class-based, meaning that objects are instances of classes, which \n",
    "also determine their types.\n",
    "'''"
   ]
  },
  {
   "cell_type": "code",
   "execution_count": 8,
   "metadata": {},
   "outputs": [
    {
     "data": {
      "text/plain": [
       "\"'\\n List down the Benefits of OOP?\\n1. Modularity for easier troubleshooting\\n2. Reuse of code through inheritance\\n3. Flexibility through polymorphism\\n4. Effective problem solving\\n\""
      ]
     },
     "execution_count": 8,
     "metadata": {},
     "output_type": "execute_result"
    }
   ],
   "source": [
    "''''\n",
    " List down the Benefits of OOP?\n",
    "1. Modularity for easier troubleshooting\n",
    "2. Reuse of code through inheritance\n",
    "3. Flexibility through polymorphism\n",
    "4. Effective problem solving\n",
    "'''"
   ]
  },
  {
   "cell_type": "code",
   "execution_count": 9,
   "metadata": {},
   "outputs": [
    {
     "data": {
      "text/plain": [
       "'\\nDifferentiate between function and method?\\nA function is a piece of code that is called by name. It can be passed data to operate on\\n(i.e. the parameters) and can optionally return data (the return value). All data that is \\npassed to a function is explicitly passed.\\nA method is a piece of code that is called by a name that is associated with an object. \\nIn most respects it is identical to a function except for two key differences:\\n1.\\tA method is implicitly passed the object on which it was called.\\n2.\\tA method is able to operate on data that is contained within the class \\n(remembering that an object is an instance of a class - the class is the definition, the \\nobject is an instance of that data).\\n'"
      ]
     },
     "execution_count": 9,
     "metadata": {},
     "output_type": "execute_result"
    }
   ],
   "source": [
    "'''\n",
    "Differentiate between function and method?\n",
    "A function is a piece of code that is called by name. It can be passed data to operate on\n",
    "(i.e. the parameters) and can optionally return data (the return value). All data that is \n",
    "passed to a function is explicitly passed.\n",
    "A method is a piece of code that is called by a name that is associated with an object. \n",
    "In most respects it is identical to a function except for two key differences:\n",
    "1. A method is implicitly passed the object on which it was called.\n",
    "2. A method is able to operate on data that is contained within the class \n",
    "(remembering that an object is an instance of a class - the class is the definition, the \n",
    "object is an instance of that data).\n",
    "'''"
   ]
  },
  {
   "cell_type": "code",
   "execution_count": 10,
   "metadata": {},
   "outputs": [
    {
     "data": {
      "text/plain": [
       "'\\nClass\\nA class is a code template for creating objects. Objects have member variables and have \\nbehaviour associated with them. In python a class is created by the keyword class.\\nAn object is created using the constructor of the class. This object will then be called\\nthe instance of the class. In Python we create instances in the following manner\\n'"
      ]
     },
     "execution_count": 10,
     "metadata": {},
     "output_type": "execute_result"
    }
   ],
   "source": [
    "'''\n",
    "Class:\n",
    "A class is a code template for creating objects. Objects have member variables and have \n",
    "behaviour associated with them. In python a class is created by the keyword class.\n",
    "An object is created using the constructor of the class. This object will then be called\n",
    "the instance of the class. In Python we create instances in the following manner\n",
    "Example is:\n",
    "Instance = class(arguments)\n",
    "'''"
   ]
  },
  {
   "cell_type": "code",
   "execution_count": 11,
   "metadata": {},
   "outputs": [
    {
     "data": {
      "text/plain": [
       "'\\nObject:\\nAn object is an element (or instance) of a class; objects have the behaviors of their class.\\nThe object is the actual component of programs, while the class specifies how instances are \\ncreated and how they behave.\\n'"
      ]
     },
     "execution_count": 11,
     "metadata": {},
     "output_type": "execute_result"
    }
   ],
   "source": [
    "'''\n",
    "Object:\n",
    "An object is an element (or instance) of a class; objects have the behaviors of their class.\n",
    "The object is the actual component of programs, while the class specifies how instances are \n",
    "created and how they behave.\n",
    "'''"
   ]
  },
  {
   "cell_type": "code",
   "execution_count": 14,
   "metadata": {},
   "outputs": [
    {
     "data": {
      "text/plain": [
       "'\\nAttribute\\nYou can define the following class with the name Snake. This class will have an attribute \\n“name”.\\nclass Snake\\nname = \"python\" # set an attribute `name` of the class\\nYou can assign the class to a variable. This is called object instantiation. You will then \\nbe able to access the attributes that are present inside the class using the dot . operator.\\nFor example, in the Snake example, you can access the attribute name of the class Snake.\\n\\n# instantiate the class Snake and assign it to variable snake\\nsnake = Snake()\\n# access the class attribute name inside the class Snake.\\nprint(snake.name)\\nOutput:\\nPython\\n'"
      ]
     },
     "execution_count": 14,
     "metadata": {},
     "output_type": "execute_result"
    }
   ],
   "source": [
    "'''\n",
    "Attribute:\n",
    "You can define the following class with the name Snake. This class will have an attribute \n",
    "“name”.\n",
    "class Snake\n",
    "name = \"python\" # set an attribute `name` of the class\n",
    "You can assign the class to a variable. This is called object instantiation. You will then \n",
    "be able to access the attributes that are present inside the class using the dot . operator.\n",
    "For example, in the Snake example, you can access the attribute name of the class Snake.\n",
    "\n",
    "# instantiate the class Snake and assign it to variable snake\n",
    "snake = Snake()\n",
    "# access the class attribute name inside the class Snake.\n",
    "print(snake.name)\n",
    "Output:\n",
    "Python\n",
    "'''"
   ]
  },
  {
   "cell_type": "code",
   "execution_count": 15,
   "metadata": {},
   "outputs": [
    {
     "data": {
      "text/plain": [
       "'\\nBehavior:\\nBehavior  is the actions and mannerisms made by individuals, organisms, systems or artificial \\nentities in conjunction with themselves or their environment,[2] which includes the other \\nsystems or organisms around as well as the (inanimate) physical environment. It is the computed \\nresponse of the system or organism to various stimuli or inputs, whether internal or external, \\nconscious or subconscious, overt or covert, and voluntary or involuntary.\\n'"
      ]
     },
     "execution_count": 15,
     "metadata": {},
     "output_type": "execute_result"
    }
   ],
   "source": [
    "'''\n",
    "Behavior:\n",
    "Behavior  is the actions and mannerisms made by individuals, organisms, systems or artificial \n",
    "entities in conjunction with themselves or their environment, which includes the other \n",
    "systems or organisms around as well as the (inanimate) physical environment. It is the computed \n",
    "response of the system or organism to various stimuli or inputs, whether internal or external, \n",
    "conscious or subconscious, overt or covert, and voluntary or involuntary.\n",
    "'''"
   ]
  },
  {
   "cell_type": "code",
   "execution_count": 4,
   "metadata": {},
   "outputs": [
    {
     "name": "stdout",
     "output_type": "stream",
     "text": [
      "model:Fx\n",
      "colour:Red\n",
      "plate:F5424\n",
      "owner:Kashan\n",
      "chasis:45452\n",
      "address:Jon Town\n",
      "model:Mehrna\n",
      "colour:Blue\n",
      "plate:F34342\n",
      "owner:Kashif\n",
      "chasis:532525\n",
      "address:Fim Village\n",
      "Enter car internal number for record: A2\n",
      "\n",
      "\n",
      "Kashif\n",
      "F34342\n",
      "\n",
      "\n",
      "Kashif\n",
      "Mehrna\n",
      "F34342\n",
      "\n",
      "\n",
      "Kashif\n",
      "Mehrna\n",
      "F34342\n",
      "Blue\n",
      "532525\n",
      "Fim Village\n"
     ]
    }
   ],
   "source": [
    "class car:\n",
    "    def __init__(number,model,colour,plate,owner,chasis,address):\n",
    "        number.model = model\n",
    "        number.colour = colour\n",
    "        number.plate = plate\n",
    "        number.owner = owner\n",
    "        number.chasis = chasis\n",
    "        number.address = address\n",
    "       \n",
    "        \n",
    "    def publicrecord(public):\n",
    "        print(public.owner)\n",
    "        print(public.plate)\n",
    "    def governmentrecord(government):\n",
    "        print(government.owner)\n",
    "        \n",
    "        print(government.model)\n",
    "        print(government.plate)\n",
    "    def agencyrecord(agency):\n",
    "        print(agency.owner)\n",
    "       \n",
    "        print(agency.model)\n",
    "        print(agency.plate)\n",
    "        print(agency.colour)\n",
    "        print(agency.chasis)\n",
    "        print(agency.address)\n",
    "\n",
    "#Store record of two cars\n",
    "model = input(\"model:\")\n",
    "colour = input(\"colour:\")\n",
    "plate = input(\"plate:\")\n",
    "owner = input(\"owner:\")\n",
    "chasis = input(\"chasis:\")\n",
    "address = input(\"address:\")\n",
    "A1 = car(model,colour,plate,owner,chasis,address)\n",
    "\n",
    "model = input(\"model:\")\n",
    "colour = input(\"colour:\")\n",
    "plate = input(\"plate:\")\n",
    "owner = input(\"owner:\")\n",
    "chasis = input(\"chasis:\")\n",
    "address = input(\"address:\")\n",
    "A2 = car(model,colour,plate,owner,chasis,address)\n",
    "\n",
    "X1=input(\"Enter car internal number for record: \")\n",
    "   \n",
    "if X1 == 'A1':\n",
    "    print(\"\\n\")\n",
    "    A1.publicrecord()\n",
    "    print(\"\\n\")\n",
    "    A1.governmentrecord()\n",
    "    print(\"\\n\")\n",
    "    A1.agencyrecord()\n",
    "    \n",
    "if X1 == 'A2':\n",
    "    print(\"\\n\")\n",
    "    A2.publicrecord()\n",
    "    print(\"\\n\")\n",
    "    A2.governmentrecord()\n",
    "    print(\"\\n\")\n",
    "    A2.agencyrecord()\n",
    "\n",
    "\n",
    "        "
   ]
  },
  {
   "cell_type": "code",
   "execution_count": null,
   "metadata": {},
   "outputs": [],
   "source": []
  }
 ],
 "metadata": {
  "kernelspec": {
   "display_name": "Python 3",
   "language": "python",
   "name": "python3"
  },
  "language_info": {
   "codemirror_mode": {
    "name": "ipython",
    "version": 3
   },
   "file_extension": ".py",
   "mimetype": "text/x-python",
   "name": "python",
   "nbconvert_exporter": "python",
   "pygments_lexer": "ipython3",
   "version": "3.7.4"
  }
 },
 "nbformat": 4,
 "nbformat_minor": 2
}
